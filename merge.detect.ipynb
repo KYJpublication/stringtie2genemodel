{
 "cells": [
  {
   "cell_type": "code",
   "execution_count": 3,
   "metadata": {
    "collapsed": true
   },
   "outputs": [],
   "source": [
    "%matplotlib inline\n",
    "from __future__ import print_function\n",
    "import pandas as pd\n",
    "import sys\n",
    "sys.path.append('/ref/analysis/pipelines/')\n",
    "import kang\n",
    "from collections import Counter \n",
    "import numpy as np\n",
    "import matplotlib.pyplot as plt\n",
    "from tqdm import tqdm"
   ]
  },
  {
   "cell_type": "code",
   "execution_count": 4,
   "metadata": {
    "collapsed": true
   },
   "outputs": [],
   "source": [
    "def infoparse(x):\n",
    "    key   = [i.split('=')[0] for i in x.split(';')]\n",
    "    value = [i.split('=')[1] for i in x.split(';')]\n",
    "    return dict(zip(key,value))"
   ]
  },
  {
   "cell_type": "code",
   "execution_count": 5,
   "metadata": {
    "collapsed": true
   },
   "outputs": [],
   "source": [
    "file_refmap = './predicted/cuffcmp.my_csv.csv.addgene.gff3.sort.gff3.refmap'\n",
    "file_tmap   = './predicted/cuffcmp.my_csv.csv.addgene.gff3.sort.gff3.tmap'\n",
    "file_fa     = './Osativa/annotation/Osativa_323_v7.0.cds.fa'\n",
    "file_pep    = './finalout/my_csv.csv.addgene.gff3.sort.gff3.pep.fa'\n",
    "file_cds    = './finalout/my_csv.csv.addgene.gff3.sort.gff3.cds.fa'\n",
    "file_tgff   = './finalout/my_csv.csv.addgene.gff3.sort.gff3.merge.all.gff3.sort.gff3'\n",
    "file_rgff   = './Osativa/annotation/Osativa_323_v7.0.gene.gff3'"
   ]
  },
  {
   "cell_type": "code",
   "execution_count": 20,
   "metadata": {
    "collapsed": false
   },
   "outputs": [
    {
     "name": "stderr",
     "output_type": "stream",
     "text": [
      "/usr/local/lib/python2.7/dist-packages/ipykernel/__main__.py:4: SettingWithCopyWarning: \n",
      "A value is trying to be set on a copy of a slice from a DataFrame.\n",
      "Try using .loc[row_indexer,col_indexer] = value instead\n",
      "\n",
      "See the caveats in the documentation: http://pandas.pydata.org/pandas-docs/stable/indexing.html#indexing-view-versus-copy\n",
      "/usr/local/lib/python2.7/dist-packages/ipykernel/__main__.py:5: SettingWithCopyWarning: \n",
      "A value is trying to be set on a copy of a slice from a DataFrame.\n",
      "Try using .loc[row_indexer,col_indexer] = value instead\n",
      "\n",
      "See the caveats in the documentation: http://pandas.pydata.org/pandas-docs/stable/indexing.html#indexing-view-versus-copy\n",
      "/usr/local/lib/python2.7/dist-packages/ipykernel/__main__.py:11: SettingWithCopyWarning: \n",
      "A value is trying to be set on a copy of a slice from a DataFrame.\n",
      "Try using .loc[row_indexer,col_indexer] = value instead\n",
      "\n",
      "See the caveats in the documentation: http://pandas.pydata.org/pandas-docs/stable/indexing.html#indexing-view-versus-copy\n",
      "/usr/local/lib/python2.7/dist-packages/ipykernel/__main__.py:17: SettingWithCopyWarning: \n",
      "A value is trying to be set on a copy of a slice from a DataFrame.\n",
      "Try using .loc[row_indexer,col_indexer] = value instead\n",
      "\n",
      "See the caveats in the documentation: http://pandas.pydata.org/pandas-docs/stable/indexing.html#indexing-view-versus-copy\n",
      "/usr/local/lib/python2.7/dist-packages/ipykernel/__main__.py:23: SettingWithCopyWarning: \n",
      "A value is trying to be set on a copy of a slice from a DataFrame.\n",
      "Try using .loc[row_indexer,col_indexer] = value instead\n",
      "\n",
      "See the caveats in the documentation: http://pandas.pydata.org/pandas-docs/stable/indexing.html#indexing-view-versus-copy\n"
     ]
    }
   ],
   "source": [
    "df_rgff      = pd.read_csv(file_rgff,sep='\\t',comment='#',header=None)\n",
    "mask         = (df_rgff[2] == 'mRNA')\n",
    "df_rgff_mRNA = df_rgff[mask]\n",
    "df_rgff_mRNA['ID'] = df_rgff_mRNA[8].apply(lambda x: infoparse(x)['ID'])\n",
    "df_rgff_mRNA['Parent'] = df_rgff_mRNA[8].apply(lambda x : infoparse(x)['Parent'])\n",
    "df_rgff_mRNA_ix = df_rgff_mRNA.set_index('ID')\n",
    "\n",
    "df_tgff      = pd.read_csv(file_tgff,sep='\\t',comment='#',header=None)\n",
    "mask         = (df_tgff[2] == 'mRNA')\n",
    "df_tgff_mRNA = df_tgff[mask]\n",
    "df_tgff_mRNA['ID'] = df_tgff_mRNA[8].apply(lambda x: infoparse(x)['ID'])\n",
    "df_tgff_mRNA_ix = df_tgff_mRNA.set_index('ID')\n",
    "\n",
    "df_rgff      = pd.read_csv(file_rgff,sep='\\t',comment='#',header=None)\n",
    "mask         = (df_rgff[2] == 'CDS')\n",
    "df_rgff_CDS = df_rgff[mask]\n",
    "df_rgff_CDS['Parent'] = df_rgff_CDS[8].apply(lambda x: infoparse(x)['Parent'])\n",
    "df_rgff_CDS_ix = df_rgff_CDS.set_index('Parent')\n",
    "\n",
    "df_tgff      = pd.read_csv(file_tgff,sep='\\t',comment='#',header=None)\n",
    "mask         = (df_tgff[2] == 'CDS')\n",
    "df_tgff_CDS = df_tgff[mask]\n",
    "df_tgff_CDS['Parent'] = df_tgff_CDS[8].apply(lambda x: infoparse(x)['Parent'])\n",
    "df_tgff_CDS_ix = df_tgff_CDS.set_index('Parent')"
   ]
  },
  {
   "cell_type": "code",
   "execution_count": 23,
   "metadata": {
    "collapsed": false
   },
   "outputs": [],
   "source": [
    "dict2g = dict(zip(df_rgff_mRNA['ID'],df_rgff_mRNA['Parent']))"
   ]
  },
  {
   "cell_type": "code",
   "execution_count": 7,
   "metadata": {
    "collapsed": false
   },
   "outputs": [],
   "source": [
    "def get_posset(df):\n",
    "    if isinstance(df,pd.Series):\n",
    "        locs = set(np.arange(df[3],df[4]+1))\n",
    "    else:\n",
    "        locs = {0}\n",
    "        for x,y in df[[3,4]].values:\n",
    "            locs = locs | set(np.arange(x,y+1))\n",
    "    return locs - {0}"
   ]
  },
  {
   "cell_type": "code",
   "execution_count": 8,
   "metadata": {
    "collapsed": false
   },
   "outputs": [],
   "source": [
    "def matched_genes(chromosome, qpos):\n",
    "    mask            = (df_rgff_CDS[0] == chromosome) & (df_rgff_CDS[3] < max(qpos) + 100000) & (df_rgff_CDS[3] > min(qpos) - 100000) \n",
    "    df_rgff_CDS_sub = df_rgff_CDS[mask].set_index('Parent')\n",
    "    matched_transcripts = []\n",
    "    for ix in set(df_rgff_CDS_sub.index):\n",
    "        edf        = df_rgff_CDS_sub.loc[ix]\n",
    "        #chromosome = edf[0][0]\n",
    "        #t_start, t_end = np.min(edf[[3,4]].values), np.max(edf[[3,4]].values)\n",
    "        #if chromosome == tchr:\n",
    "        tpos = get_posset(edf)\n",
    "        if len(qpos & tpos) > 100 :\n",
    "            matched_transcripts.append(ix)\n",
    "    return matched_transcripts "
   ]
  },
  {
   "cell_type": "code",
   "execution_count": 25,
   "metadata": {
    "collapsed": false
   },
   "outputs": [
    {
     "name": "stderr",
     "output_type": "stream",
     "text": [
      "100%|██████████| 60657/60657 [34:39<00:00, 29.17it/s]\n"
     ]
    }
   ],
   "source": [
    "dic = {'qname':[], \n",
    "       'merges':[]}\n",
    "tgff_posset = []\n",
    "ixs = list(set(df_tgff_CDS_ix.index))\n",
    "len_dist = []\n",
    "for ix in tqdm(ixs):\n",
    "    qpos = get_posset(df_tgff_CDS_ix.loc[ix])\n",
    "    chromosome  = df_tgff_CDS_ix.loc[ix][0][0]\n",
    "    matches     = matched_genes(chromosome,qpos)\n",
    "    matches_set = set([dict2g[x] for x in matches])\n",
    "    if len(matches_set) > 1:\n",
    "        #print(ix, matches_set)\n",
    "        dic['qname'].append(ix)\n",
    "        dic['merges'].append(matches_set)\n",
    "        len_dist.append(len(matches_set))\n",
    "    "
   ]
  },
  {
   "cell_type": "code",
   "execution_count": 26,
   "metadata": {
    "collapsed": true
   },
   "outputs": [],
   "source": [
    "df_merge = pd.DataFrame(dic)"
   ]
  },
  {
   "cell_type": "code",
   "execution_count": 27,
   "metadata": {
    "collapsed": false
   },
   "outputs": [
    {
     "name": "stdout",
     "output_type": "stream",
     "text": [
      "number of predicted transcripts that merge reference transcripts: 513\n"
     ]
    }
   ],
   "source": [
    "print(\"number of predicted transcripts that merge reference transcripts:\",len(df_merge))"
   ]
  },
  {
   "cell_type": "code",
   "execution_count": 28,
   "metadata": {
    "collapsed": false
   },
   "outputs": [],
   "source": [
    "sumset = {0}\n",
    "for i in df_merge['merges']:\n",
    "    sumset = sumset | i"
   ]
  },
  {
   "cell_type": "code",
   "execution_count": 29,
   "metadata": {
    "collapsed": false
   },
   "outputs": [
    {
     "name": "stdout",
     "output_type": "stream",
     "text": [
      "number of reference trancripts that are merged by prediction 699\n"
     ]
    }
   ],
   "source": [
    "print(\"number of reference trancripts that are merged by prediction\",len(sumset - {0}))"
   ]
  },
  {
   "cell_type": "code",
   "execution_count": 30,
   "metadata": {
    "collapsed": false
   },
   "outputs": [],
   "source": [
    "df_merge['merged genes'] = df_merge['merges'].apply(lambda x : ','.join(x))"
   ]
  },
  {
   "cell_type": "code",
   "execution_count": 31,
   "metadata": {
    "collapsed": false
   },
   "outputs": [],
   "source": [
    "df_merge.to_csv('merged.cases.txt',sep='\\t')"
   ]
  },
  {
   "cell_type": "code",
   "execution_count": 32,
   "metadata": {
    "collapsed": false
   },
   "outputs": [
    {
     "data": {
      "text/html": [
       "<div>\n",
       "<table border=\"1\" class=\"dataframe\">\n",
       "  <thead>\n",
       "    <tr style=\"text-align: right;\">\n",
       "      <th></th>\n",
       "      <th>merges</th>\n",
       "      <th>qname</th>\n",
       "      <th>merged genes</th>\n",
       "    </tr>\n",
       "  </thead>\n",
       "  <tbody>\n",
       "    <tr>\n",
       "      <th>0</th>\n",
       "      <td>{LOC_Os02g41820.MSUv7.0, LOC_Os02g41830.MSUv7.0}</td>\n",
       "      <td>Gene.52277::STRG.6536.3::g.52277::m.52277</td>\n",
       "      <td>LOC_Os02g41820.MSUv7.0,LOC_Os02g41830.MSUv7.0</td>\n",
       "    </tr>\n",
       "    <tr>\n",
       "      <th>1</th>\n",
       "      <td>{LOC_Os09g07294.MSUv7.0, LOC_Os09g07300.MSUv7.0}</td>\n",
       "      <td>Gene.158203::STRG.24241.1::g.158203::m.158203</td>\n",
       "      <td>LOC_Os09g07294.MSUv7.0,LOC_Os09g07300.MSUv7.0</td>\n",
       "    </tr>\n",
       "    <tr>\n",
       "      <th>2</th>\n",
       "      <td>{LOC_Os08g30850.MSUv7.0, LOC_Os08g30870.MSUv7.0}</td>\n",
       "      <td>Gene.146537::STRG.23134.5::g.146537::m.146537</td>\n",
       "      <td>LOC_Os08g30850.MSUv7.0,LOC_Os08g30870.MSUv7.0</td>\n",
       "    </tr>\n",
       "    <tr>\n",
       "      <th>3</th>\n",
       "      <td>{LOC_Os12g38420.MSUv7.0, LOC_Os12g38430.MSUv7.0}</td>\n",
       "      <td>Gene.44959::STRG.31557.6::g.44959::m.44959</td>\n",
       "      <td>LOC_Os12g38420.MSUv7.0,LOC_Os12g38430.MSUv7.0</td>\n",
       "    </tr>\n",
       "    <tr>\n",
       "      <th>4</th>\n",
       "      <td>{LOC_Os09g15850.MSUv7.0, LOC_Os09g15860.MSUv7.0}</td>\n",
       "      <td>Gene.157505::STRG.24621.4::g.157505::m.157505</td>\n",
       "      <td>LOC_Os09g15850.MSUv7.0,LOC_Os09g15860.MSUv7.0</td>\n",
       "    </tr>\n",
       "  </tbody>\n",
       "</table>\n",
       "</div>"
      ],
      "text/plain": [
       "                                             merges  \\\n",
       "0  {LOC_Os02g41820.MSUv7.0, LOC_Os02g41830.MSUv7.0}   \n",
       "1  {LOC_Os09g07294.MSUv7.0, LOC_Os09g07300.MSUv7.0}   \n",
       "2  {LOC_Os08g30850.MSUv7.0, LOC_Os08g30870.MSUv7.0}   \n",
       "3  {LOC_Os12g38420.MSUv7.0, LOC_Os12g38430.MSUv7.0}   \n",
       "4  {LOC_Os09g15850.MSUv7.0, LOC_Os09g15860.MSUv7.0}   \n",
       "\n",
       "                                           qname  \\\n",
       "0      Gene.52277::STRG.6536.3::g.52277::m.52277   \n",
       "1  Gene.158203::STRG.24241.1::g.158203::m.158203   \n",
       "2  Gene.146537::STRG.23134.5::g.146537::m.146537   \n",
       "3     Gene.44959::STRG.31557.6::g.44959::m.44959   \n",
       "4  Gene.157505::STRG.24621.4::g.157505::m.157505   \n",
       "\n",
       "                                    merged genes  \n",
       "0  LOC_Os02g41820.MSUv7.0,LOC_Os02g41830.MSUv7.0  \n",
       "1  LOC_Os09g07294.MSUv7.0,LOC_Os09g07300.MSUv7.0  \n",
       "2  LOC_Os08g30850.MSUv7.0,LOC_Os08g30870.MSUv7.0  \n",
       "3  LOC_Os12g38420.MSUv7.0,LOC_Os12g38430.MSUv7.0  \n",
       "4  LOC_Os09g15850.MSUv7.0,LOC_Os09g15860.MSUv7.0  "
      ]
     },
     "execution_count": 32,
     "metadata": {},
     "output_type": "execute_result"
    }
   ],
   "source": [
    "df_merge.head()"
   ]
  },
  {
   "cell_type": "code",
   "execution_count": 17,
   "metadata": {
    "collapsed": false
   },
   "outputs": [
    {
     "data": {
      "text/html": [
       "<div>\n",
       "<table border=\"1\" class=\"dataframe\">\n",
       "  <thead>\n",
       "    <tr style=\"text-align: right;\">\n",
       "      <th></th>\n",
       "      <th>0</th>\n",
       "      <th>1</th>\n",
       "      <th>2</th>\n",
       "      <th>3</th>\n",
       "      <th>4</th>\n",
       "      <th>5</th>\n",
       "      <th>6</th>\n",
       "      <th>7</th>\n",
       "      <th>8</th>\n",
       "    </tr>\n",
       "    <tr>\n",
       "      <th>Parent</th>\n",
       "      <th></th>\n",
       "      <th></th>\n",
       "      <th></th>\n",
       "      <th></th>\n",
       "      <th></th>\n",
       "      <th></th>\n",
       "      <th></th>\n",
       "      <th></th>\n",
       "      <th></th>\n",
       "    </tr>\n",
       "  </thead>\n",
       "  <tbody>\n",
       "    <tr>\n",
       "      <th>Gene.11756::STRG.1.2::g.11756::m.11756</th>\n",
       "      <td>Chr1</td>\n",
       "      <td>ST/TD/KYJ</td>\n",
       "      <td>CDS</td>\n",
       "      <td>3449</td>\n",
       "      <td>3616</td>\n",
       "      <td>.</td>\n",
       "      <td>+</td>\n",
       "      <td>0</td>\n",
       "      <td>ID=cds.Gene.11756::STRG.1.2::g.11756::m.11756....</td>\n",
       "    </tr>\n",
       "    <tr>\n",
       "      <th>Gene.11756::STRG.1.2::g.11756::m.11756</th>\n",
       "      <td>Chr1</td>\n",
       "      <td>ST/TD/KYJ</td>\n",
       "      <td>CDS</td>\n",
       "      <td>4357</td>\n",
       "      <td>4455</td>\n",
       "      <td>.</td>\n",
       "      <td>+</td>\n",
       "      <td>0</td>\n",
       "      <td>ID=cds.Gene.11756::STRG.1.2::g.11756::m.11756....</td>\n",
       "    </tr>\n",
       "    <tr>\n",
       "      <th>Gene.11756::STRG.1.2::g.11756::m.11756</th>\n",
       "      <td>Chr1</td>\n",
       "      <td>ST/TD/KYJ</td>\n",
       "      <td>CDS</td>\n",
       "      <td>5457</td>\n",
       "      <td>5560</td>\n",
       "      <td>.</td>\n",
       "      <td>+</td>\n",
       "      <td>0</td>\n",
       "      <td>ID=cds.Gene.11756::STRG.1.2::g.11756::m.11756....</td>\n",
       "    </tr>\n",
       "    <tr>\n",
       "      <th>Gene.11756::STRG.1.2::g.11756::m.11756</th>\n",
       "      <td>Chr1</td>\n",
       "      <td>ST/TD/KYJ</td>\n",
       "      <td>CDS</td>\n",
       "      <td>7136</td>\n",
       "      <td>7944</td>\n",
       "      <td>.</td>\n",
       "      <td>+</td>\n",
       "      <td>1</td>\n",
       "      <td>ID=cds.Gene.11756::STRG.1.2::g.11756::m.11756....</td>\n",
       "    </tr>\n",
       "    <tr>\n",
       "      <th>Gene.11756::STRG.1.2::g.11756::m.11756</th>\n",
       "      <td>Chr1</td>\n",
       "      <td>ST/TD/KYJ</td>\n",
       "      <td>CDS</td>\n",
       "      <td>8028</td>\n",
       "      <td>8150</td>\n",
       "      <td>.</td>\n",
       "      <td>+</td>\n",
       "      <td>2</td>\n",
       "      <td>ID=cds.Gene.11756::STRG.1.2::g.11756::m.11756....</td>\n",
       "    </tr>\n",
       "  </tbody>\n",
       "</table>\n",
       "</div>"
      ],
      "text/plain": [
       "                                           0          1    2     3     4  5  \\\n",
       "Parent                                                                        \n",
       "Gene.11756::STRG.1.2::g.11756::m.11756  Chr1  ST/TD/KYJ  CDS  3449  3616  .   \n",
       "Gene.11756::STRG.1.2::g.11756::m.11756  Chr1  ST/TD/KYJ  CDS  4357  4455  .   \n",
       "Gene.11756::STRG.1.2::g.11756::m.11756  Chr1  ST/TD/KYJ  CDS  5457  5560  .   \n",
       "Gene.11756::STRG.1.2::g.11756::m.11756  Chr1  ST/TD/KYJ  CDS  7136  7944  .   \n",
       "Gene.11756::STRG.1.2::g.11756::m.11756  Chr1  ST/TD/KYJ  CDS  8028  8150  .   \n",
       "\n",
       "                                        6  7  \\\n",
       "Parent                                         \n",
       "Gene.11756::STRG.1.2::g.11756::m.11756  +  0   \n",
       "Gene.11756::STRG.1.2::g.11756::m.11756  +  0   \n",
       "Gene.11756::STRG.1.2::g.11756::m.11756  +  0   \n",
       "Gene.11756::STRG.1.2::g.11756::m.11756  +  1   \n",
       "Gene.11756::STRG.1.2::g.11756::m.11756  +  2   \n",
       "\n",
       "                                                                                        8  \n",
       "Parent                                                                                     \n",
       "Gene.11756::STRG.1.2::g.11756::m.11756  ID=cds.Gene.11756::STRG.1.2::g.11756::m.11756....  \n",
       "Gene.11756::STRG.1.2::g.11756::m.11756  ID=cds.Gene.11756::STRG.1.2::g.11756::m.11756....  \n",
       "Gene.11756::STRG.1.2::g.11756::m.11756  ID=cds.Gene.11756::STRG.1.2::g.11756::m.11756....  \n",
       "Gene.11756::STRG.1.2::g.11756::m.11756  ID=cds.Gene.11756::STRG.1.2::g.11756::m.11756....  \n",
       "Gene.11756::STRG.1.2::g.11756::m.11756  ID=cds.Gene.11756::STRG.1.2::g.11756::m.11756....  "
      ]
     },
     "execution_count": 17,
     "metadata": {},
     "output_type": "execute_result"
    }
   ],
   "source": [
    "df_tgff_CDS_ix.head()"
   ]
  },
  {
   "cell_type": "code",
   "execution_count": null,
   "metadata": {
    "collapsed": true
   },
   "outputs": [],
   "source": []
  }
 ],
 "metadata": {
  "kernelspec": {
   "display_name": "Python 2",
   "language": "python",
   "name": "python2"
  },
  "language_info": {
   "codemirror_mode": {
    "name": "ipython",
    "version": 2
   },
   "file_extension": ".py",
   "mimetype": "text/x-python",
   "name": "python",
   "nbconvert_exporter": "python",
   "pygments_lexer": "ipython2",
   "version": "2.7.6"
  }
 },
 "nbformat": 4,
 "nbformat_minor": 0
}
